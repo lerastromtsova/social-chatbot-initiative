{
 "cells": [
  {
   "cell_type": "markdown",
   "metadata": {
    "pycharm": {
     "name": "#%% md\n"
    }
   },
   "source": [
    "# Overview of Conversational Intelligence Challenge 1st Roud Dataset"
   ]
  },
  {
   "cell_type": "code",
   "execution_count": 2,
   "metadata": {
    "pycharm": {
     "name": "#%%\n"
    }
   },
   "outputs": [],
   "source": [
    "from __future__ import division, print_function\n",
    "%matplotlib inline\n",
    "\n",
    "import matplotlib\n",
    "import numpy as np\n",
    "import matplotlib.pyplot as plt\n",
    "import json\n",
    "from collections import defaultdict\n",
    "from nltk import wordpunct_tokenize\n",
    "from scipy.stats import pearsonr, spearmanr"
   ]
  },
  {
   "cell_type": "code",
   "execution_count": 5,
   "metadata": {
    "pycharm": {
     "name": "#%%\n"
    }
   },
   "outputs": [],
   "source": [
    "with open(\"data/train_full.json\") as f:\n",
    "    dataset = json.load(f)"
   ]
  },
  {
   "cell_type": "code",
   "execution_count": 6,
   "metadata": {
    "pycharm": {
     "name": "#%%\n"
    }
   },
   "outputs": [],
   "source": [
    "human_human, human_bot = np.zeros((len(dataset), )), np.zeros((len(dataset), ))\n",
    "for i, d in enumerate(dataset):\n",
    "    human, bot = 0, 0\n",
    "    for u in d['users']:\n",
    "        if u['userType'] == 'Human':\n",
    "            human += 1\n",
    "        elif u['userType'] == 'Bot':\n",
    "            bot += 1\n",
    "        else:\n",
    "            print('Unknown user type: {}'.format(u['userType']))\n",
    "    if human == 2:\n",
    "        human_human[i] = 1\n",
    "    elif human == 1 and bot == 1:\n",
    "        human_bot[i] = 1\n",
    "    else:\n",
    "        print('Unknown combination of users: human = {}, bot = {}'.format(human, bot))"
   ]
  },
  {
   "cell_type": "markdown",
   "metadata": {
    "pycharm": {
     "name": "#%% md\n"
    }
   },
   "source": [
    "## 1. Dialogue statistics"
   ]
  },
  {
   "cell_type": "code",
   "execution_count": 8,
   "metadata": {
    "pycharm": {
     "name": "#%%\n"
    }
   },
   "outputs": [],
   "source": [
    "silent_user = []\n",
    "long_dialogue = []\n",
    "empty_dialogue = []\n",
    "for i, d in enumerate(dataset):\n",
    "    user_utt = defaultdict(int)\n",
    "    user_map = {}\n",
    "    if len(d['thread']) == 0:\n",
    "        empty_dialogue.append(i)\n",
    "        continue\n",
    "    for th in d['thread']:\n",
    "        user_utt[th['userId']] += 1\n",
    "    for u in d['users']:\n",
    "        if u['userType'] == 'Human':\n",
    "            user_map[u['id']] = 'human'\n",
    "        elif u['userType'] == 'Bot':\n",
    "            user_map[u['id']] = 'bot'\n",
    "        else:\n",
    "            print('Unknown user type: {}'.format(u['userType']))\n",
    "    for u in user_map:\n",
    "        if u not in user_utt:\n",
    "            silent_user.append(i)\n",
    "            break\n",
    "    ok = False\n",
    "    for u in user_map:\n",
    "        if user_utt[u] > 2:\n",
    "            if ok:\n",
    "                long_dialogue.append(i)\n",
    "            else:\n",
    "                ok = True"
   ]
  },
  {
   "cell_type": "markdown",
   "metadata": {
    "pycharm": {
     "name": "#%% md\n"
    }
   },
   "source": [
    "### 1.1 Length of dialogues"
   ]
  },
  {
   "cell_type": "code",
   "execution_count": 9,
   "metadata": {
    "pycharm": {
     "name": "#%%\n"
    }
   },
   "outputs": [
    {
     "name": "stdout",
     "output_type": "stream",
     "text": [
      "\t\t\tTotal\tHuman-to-bot\tHuman-to-human\n",
      "All dialogues\t\t2778\t\t441\t\t2337\n",
      "Empty dialogues\t\t119\t\t66\t\t53\n",
      "One-sided dialogues\t560\t\t229\t\t331\n",
      "Long dialogues\t\t1719\t\t368\t\t1351\n"
     ]
    }
   ],
   "source": [
    "print('\\t\\t\\tTotal\\tHuman-to-bot\\tHuman-to-human')\n",
    "\n",
    "# Total\n",
    "hh_dialog = [d for i, d in enumerate(dataset) if human_human[i] == 1]\n",
    "hb_dialog = [d for i, d in enumerate(dataset) if human_bot[i] == 1]\n",
    "print('All dialogues\\t\\t{}\\t\\t{}\\t\\t{}'.format(len(dataset), len(hh_dialog), len(hb_dialog)))\n",
    "\n",
    "# Empty\n",
    "hh_empty = [d for i, d in enumerate(empty_dialogue) if human_human[i] == 1]\n",
    "hb_emtpy = [d for i, d in enumerate(empty_dialogue) if human_bot[i] == 1]\n",
    "print('Empty dialogues\\t\\t{}\\t\\t{}\\t\\t{}'.format(len(empty_dialogue), len(hh_empty), len(hb_emtpy)))\n",
    "\n",
    "# One-sided\n",
    "hh_silent = [d for i, d in enumerate(silent_user) if human_human[i] == 1]\n",
    "hb_silent = [d for i, d in enumerate(silent_user) if human_bot[i] == 1]\n",
    "print('One-sided dialogues\\t{}\\t\\t{}\\t\\t{}'.format(len(silent_user), len(hh_silent), len(hb_silent)))\n",
    "\n",
    "# Long dialogues\n",
    "hh_long = [d for i, d in enumerate(long_dialogue) if human_human[i] == 1]\n",
    "hb_long = [d for i, d in enumerate(long_dialogue) if human_bot[i] == 1]\n",
    "print('Long dialogues\\t\\t{}\\t\\t{}\\t\\t{}'.format(len(long_dialogue), len(hh_long), len(hb_long)))"
   ]
  },
  {
   "cell_type": "markdown",
   "metadata": {
    "pycharm": {
     "name": "#%% md\n"
    }
   },
   "source": [
    "### 1.2 Length of utterances"
   ]
  },
  {
   "cell_type": "code",
   "execution_count": null,
   "metadata": {
    "pycharm": {
     "name": "#%%\n"
    }
   },
   "outputs": [],
   "source": [
    "n_words, n_utt = [],[]\n",
    "word_in_utt = []\n",
    "word_in_utt_hier = []\n",
    "for d in dataset:\n",
    "    cur_utt = 0\n",
    "    cur_words = 0\n",
    "    cur_w_i_u = []\n",
    "    for th in d['thread']:    \n",
    "        text = wordpunct_tokenize(th['text'])\n",
    "        cur_utt += 1\n",
    "        cur_words += len(text)\n",
    "        word_in_utt.append(len(text))\n",
    "        cur_w_i_u.append(len(text))\n",
    "    n_words.append(cur_words)\n",
    "    n_utt.append(cur_utt)\n",
    "    word_in_utt_hier.append(cur_w_i_u)\n",
    "word_per_utt = [float(w)/float(u) if u > 0 else 0 for w, u in zip(n_words, n_utt)]\n",
    "filter_word_per_utt = [f for f in word_per_utt if f < 25]\n",
    "plot = plt.hist(filter_word_per_utt, bins=25)"
   ]
  },
  {
   "cell_type": "code",
   "execution_count": null,
   "metadata": {
    "pycharm": {
     "name": "#%%\n"
    }
   },
   "outputs": [],
   "source": [
    "print('\\t\\t\\tTotal\\t\\tHuman-to-bot\\tHuman-to-human')\n",
    "\n",
    "hh_utt = [d for i, d in enumerate(n_utt) if human_human[i] == 1]\n",
    "hb_utt = [d for i, d in enumerate(n_utt) if human_bot[i] == 1]\n",
    "print('Utt. per dialogue\\t%.2f\\t\\t%.2f\\t\\t%.2f' % (np.average(n_utt), np.average(hb_utt), np.average(hh_utt)))\n",
    "\n",
    "hh_word = [np.average(d) if len(d) > 0 else 0 for i, d in enumerate(word_in_utt_hier) if human_human[i] == 1]\n",
    "hb_word = [np.average(d) if len(d) > 0 else 0 for i, d in enumerate(word_in_utt_hier) if human_bot[i] == 1]\n",
    "print('Word per utt.\\t\\t%.2f\\t\\t%.2f\\t\\t%.2f' % (np.average(word_in_utt), np.average(hb_word), np.average(hh_word)))"
   ]
  },
  {
   "cell_type": "code",
   "execution_count": null,
   "metadata": {
    "pycharm": {
     "name": "#%%\n"
    }
   },
   "outputs": [],
   "source": [
    "human_lens = []\n",
    "bot_lens = []\n",
    "for d in dataset:\n",
    "    user_type = {}\n",
    "    for user in d[\"users\"]:\n",
    "        if user[\"userType\"] == 'Bot':\n",
    "            user_type[user['id']] = False\n",
    "        elif user[\"userType\"] == 'Human':\n",
    "            user_type[user['id']] = True\n",
    "    for th in d[\"thread\"]:\n",
    "        if user_type[th[\"userId\"]]:\n",
    "            human_lens.append(len(th[\"text\"]))\n",
    "        else:\n",
    "            bot_lens.append(len(th[\"text\"]))\n",
    "plot = plt.hist((human_lens,bot_lens), bins=10, range=(0,200), label = ('human','bot'))\n",
    "plt.xlabel('Length of utterance in characters')\n",
    "plt.ylabel('Frequency')\n",
    "l = plt.legend()"
   ]
  },
  {
   "cell_type": "markdown",
   "metadata": {
    "pycharm": {
     "name": "#%% md\n"
    }
   },
   "source": [
    "## 2. Evaluation of dialogues"
   ]
  },
  {
   "cell_type": "markdown",
   "metadata": {
    "pycharm": {
     "name": "#%% md\n"
    }
   },
   "source": [
    "### 2.1 Dialogue-level quality"
   ]
  },
  {
   "cell_type": "code",
   "execution_count": null,
   "metadata": {
    "pycharm": {
     "name": "#%%\n"
    }
   },
   "outputs": [],
   "source": [
    "human_qual, bot_qual = [], []\n",
    "for i, d in enumerate(dataset):\n",
    "    users_map = {}\n",
    "    uids = []\n",
    "    users_scores = defaultdict(list)\n",
    "    dbl = False\n",
    "    for u in d['users']:\n",
    "        uids.append(u['id'])\n",
    "        if u['userType'] == 'Human':\n",
    "            users_map[u['id']] = True\n",
    "        elif u['userType'] == 'Bot':\n",
    "            users_map[u['id']] = False\n",
    "    if users_map[uids[0]] and users_map[uids[1]]:\n",
    "        dbl = True\n",
    "    #print(users_map)\n",
    "    for ev in d['evaluation']:\n",
    "        if dbl:\n",
    "            human_qual.append(ev['quality'])\n",
    "            continue\n",
    "        if (ev['userId'] == uids[0] and not users_map[uids[0]]) or (ev['userId'] == uids[1] and not users_map[uids[1]]):\n",
    "            bot_qual.append(ev['quality'])\n",
    "\n",
    "plot = plt.hist(human_qual, bins=5, histtype='step', linewidth=3.0, label='human')\n",
    "plot = plt.hist(bot_qual, bins=5, histtype='step', linewidth=3.0, label='bot')\n",
    "plt.xlabel('Dialogue-level quality')\n",
    "plt.ylabel('Frequency')\n",
    "l = plt.legend()\n",
    "#sum(bot_qual), len(bot_qual), len(human_qual)"
   ]
  },
  {
   "cell_type": "code",
   "execution_count": null,
   "metadata": {
    "pycharm": {
     "name": "#%%\n"
    }
   },
   "outputs": [],
   "source": [
    "plot = plt.hist(human_qual + bot_qual, bins=5)\n",
    "plt.xlabel('Dialogue-level quality')\n",
    "plt.ylabel('Number of dialogues')"
   ]
  },
  {
   "cell_type": "markdown",
   "metadata": {
    "pycharm": {
     "name": "#%% md\n"
    }
   },
   "source": [
    "#### Correlation of dialogue-level scores"
   ]
  },
  {
   "cell_type": "code",
   "execution_count": null,
   "metadata": {
    "pycharm": {
     "name": "#%%\n"
    }
   },
   "outputs": [],
   "source": [
    "breadth, engagement, quality = [], [], []\n",
    "qu_dbl = [[], []]\n",
    "for d in dataset:\n",
    "    dbl = False\n",
    "    users_map = {}\n",
    "    uids = []\n",
    "    users_scores = defaultdict(list)\n",
    "    for u in d['users']:\n",
    "        uids.append(u['id'])\n",
    "        if u['userType'] == 'Human':\n",
    "            users_map[u['id']] = True\n",
    "        elif u['userType'] == 'Bot':\n",
    "            users_map[u['id']] = False\n",
    "    if users_map[uids[0]] and users_map[uids[1]]:\n",
    "        dbl = True\n",
    "    cur_dbl_q, cur_dbl_br, cur_dbl_en = [], [], []\n",
    "    for i, ev in enumerate(d['evaluation']):\n",
    "        if dbl:\n",
    "            cur_dbl_q.append(ev['quality'])\n",
    "            cur_dbl_br.append(ev['breadth'])\n",
    "            cur_dbl_en.append(ev['engagement'])\n",
    "        if (ev['userId'] == uids[0] and not users_map[uids[0]]) or (ev['userId'] == uids[1] and not users_map[uids[1]]):\n",
    "            breadth.append(ev['breadth'])\n",
    "            engagement.append(ev['engagement'])\n",
    "            quality.append(ev['quality'])\n",
    "            break\n",
    "    if dbl:\n",
    "        breadth.append(np.average(cur_dbl_br))\n",
    "        quality.append(np.average(cur_dbl_q))\n",
    "        engagement.append(np.average(cur_dbl_en))\n",
    "print('Breadth vs quality: ', pearsonr(breadth, quality)[0])\n",
    "print('Engagement vs quality', pearsonr(engagement, quality)[0])\n",
    "print('Breadth vs engagement', pearsonr(breadth, engagement)[0])"
   ]
  },
  {
   "cell_type": "markdown",
   "metadata": {
    "pycharm": {
     "name": "#%% md\n"
    }
   },
   "source": [
    "### 2.2 Utterance-level quality"
   ]
  },
  {
   "cell_type": "code",
   "execution_count": null,
   "metadata": {
    "pycharm": {
     "name": "#%%\n"
    }
   },
   "outputs": [],
   "source": [
    "human_utt, bot_utt = [], []\n",
    "for i, d in enumerate(dataset):\n",
    "    users = {}\n",
    "    for u in d['users']:\n",
    "        if u['userType'] == 'Human':\n",
    "            users[u['id']] = 'human'\n",
    "        elif u['userType'] == 'Bot':\n",
    "            users[u['id']] = 'bot'\n",
    "    for th in d['thread']:\n",
    "        if th['evaluation'] != 0:\n",
    "            try:\n",
    "                if users[th['userId']] == 'human':\n",
    "                    human_utt.append(th['evaluation'] - 1)\n",
    "                elif users[th['userId']] == 'bot':\n",
    "                    bot_utt.append(th['evaluation'] - 1)\n",
    "            except KeyError:\n",
    "                print('Unknown user {} in dialogue {}'.format(th['userId'], i))\n",
    "fig, ax = plt.subplots()\n",
    "\n",
    "h_avg, h_std = np.average(human_utt), np.std(human_utt)\n",
    "b_avg, b_std = np.average(bot_utt), np.std(bot_utt)\n",
    "human_utt_trans = [(h - h_avg)/h_std for h in human_utt]\n",
    "bot_utt_trans = [(b - b_avg)/b_std for b in bot_utt]\n",
    "ax.hist((human_utt, bot_utt), bins=2, label=('human', 'bot'))\n",
    "l = plt.legend()\n",
    "plt.xlabel('Utterance-level scores')\n",
    "plt.ylabel('Frequency')\n",
    "plt.show()"
   ]
  },
  {
   "cell_type": "markdown",
   "metadata": {
    "pycharm": {
     "name": "#%% md\n"
    }
   },
   "source": [
    "#### Distribution of dialogues by number of utterance-level scores"
   ]
  },
  {
   "cell_type": "code",
   "execution_count": null,
   "metadata": {
    "pycharm": {
     "name": "#%%\n"
    }
   },
   "outputs": [],
   "source": [
    "rated_utt = {}\n",
    "rated_utt_detailed = []\n",
    "all_human_eval = []\n",
    "for i, d in enumerate(dataset):\n",
    "    cur_rated = []\n",
    "    cur_rated_user1, cur_rated_user2 = [], []\n",
    "    users = {}\n",
    "    for u in d['users']:\n",
    "        if u['userType'] == 'Human':\n",
    "            users[u['id']] = 'human'\n",
    "        elif u['userType'] == 'Bot':\n",
    "            users[u['id']] = 'bot'\n",
    "    [user1, user2] = users.keys()\n",
    "    #print(user1, user2)\n",
    "    for th in d['thread']:\n",
    "        if human_human[i]:\n",
    "            cur_rated.append(th['evaluation'])\n",
    "            all_human_eval.append(th['evaluation'])\n",
    "            #print(users[th['userId']], user1, user2)\n",
    "            if th['userId'] == user1:\n",
    "                cur_rated_user1.append(th['evaluation'])\n",
    "            elif th['userId'] == user2:\n",
    "                cur_rated_user2.append(th['evaluation'])\n",
    "        elif users[th['userId']] == 'bot':\n",
    "            cur_rated.append(th['evaluation'])\n",
    "            all_human_eval.append(th['evaluation'])\n",
    "            \n",
    "    percent = sum([1 for c in cur_rated if c != 0])/len(cur_rated) if len(cur_rated) > 0 else 0\n",
    "    rated_utt[i] = percent\n",
    "    if human_human[i]:\n",
    "        rated_utt_detailed.append(cur_rated_user1)\n",
    "        rated_utt_detailed.append(cur_rated_user2)\n",
    "        #print('Dialogue {}, user1: '.format(i), cur_rated_user1)\n",
    "        #print('Dialogue {}, user2: '.format(i), cur_rated_user2)\n",
    "    else:\n",
    "        rated_utt_detailed.append(cur_rated)\n",
    "        #print('Dialogue {}'.format(i), cur_rated)\n",
    "\n",
    "plot = plt.hist(rated_utt.values(), bins=11)\n",
    "plt.xlabel('Percentage of rated utterances in dialogue')\n",
    "plt.ylabel('Number of dialogues')\n",
    "num_unrated = len([t for t in all_human_eval if t == 0])\n",
    "print('Number of unrated utterances: {} ({}%)'.format(num_unrated, 100*num_unrated/len(all_human_eval)))\n",
    "num_unrated_dial = len([t for t in rated_utt.values() if t == 0])\n",
    "print('Number of dialogues with zero rated utterances: {} ({}%)'.format(num_unrated_dial, 100*num_unrated_dial/len(rated_utt)))\n",
    "num_incomplete = len([t for t in rated_utt.values() if t > 0 and t < 1])\n",
    "print('Number of dialogues with partially rated utterances: {} ({}%)'.format(num_incomplete, 100*num_incomplete/len(rated_utt)))\n",
    "print(max([len(dl) for dl in rated_utt_detailed]))"
   ]
  },
  {
   "cell_type": "code",
   "execution_count": null,
   "metadata": {
    "pycharm": {
     "name": "#%%\n"
    }
   },
   "outputs": [],
   "source": [
    "dataset[33]"
   ]
  },
  {
   "cell_type": "code",
   "execution_count": null,
   "metadata": {
    "pycharm": {
     "name": "#%%\n"
    }
   },
   "outputs": [],
   "source": [
    "rated_long = {k: v for k, v in rated_utt.items() if k in long_dialogue}\n",
    "one_rated_human = [v for k, v in rated_long.items() if human_human[k] and v > 0]\n",
    "one_rated_bot = [v for k, v in rated_long.items() if human_bot[k] and v > 0]\n",
    "half_rated_human = [v for k, v in rated_long.items() if human_human[k] and v >= 0.5]\n",
    "half_rated_bot = [v for k, v in rated_long.items() if human_bot[k] and v >= 0.5]\n",
    "all_rated_human = [v for k, v in rated_long.items() if human_human[k] and v == 1]\n",
    "all_rated_bot = [v for k, v in rated_long.items() if human_bot[k] and v == 1]\n",
    "one_rated = len(one_rated_human) + len(one_rated_bot)\n",
    "half_rated = len(half_rated_human) + len(half_rated_bot)\n",
    "all_rated = len(all_rated_human) + len(all_rated_bot)\n",
    "print('Long & at least one item rated\\t\\t{}\\t\\t{}\\t\\t{}'.format(one_rated, len(one_rated_human), len(one_rated_bot)))\n",
    "print('Long & at least half items rated\\t{}\\t\\t{}\\t\\t{}'.format(half_rated, len(half_rated_human), len(half_rated_bot)))\n",
    "print('Long & all items rated\\t\\t\\t{}\\t\\t{}\\t\\t{}'.format(all_rated, len(all_rated_human), len(all_rated_bot)))\n",
    "print('Average percentage of rated utterances for dialogues with at least one utterance rated: {}'.format(\n",
    "    np.average(one_rated_bot + one_rated_human)))"
   ]
  },
  {
   "cell_type": "markdown",
   "metadata": {
    "pycharm": {
     "name": "#%% md\n"
    }
   },
   "source": [
    "#### Distribution of utterance-level scores across dialogue"
   ]
  },
  {
   "cell_type": "code",
   "execution_count": null,
   "metadata": {
    "pycharm": {
     "name": "#%%\n"
    }
   },
   "outputs": [],
   "source": []
  },
  {
   "cell_type": "markdown",
   "metadata": {
    "pycharm": {
     "name": "#%% md\n"
    }
   },
   "source": [
    "### 2.3 Dialogue-level vs utterance-level"
   ]
  },
  {
   "cell_type": "code",
   "execution_count": null,
   "metadata": {
    "pycharm": {
     "name": "#%%\n"
    }
   },
   "outputs": [],
   "source": [
    "dialog_scores, utterance_scores = [], []\n",
    "for d in dataset:\n",
    "    cur_d, cur_u = [], []\n",
    "    # dialogue-level\n",
    "    for ev in d['evaluation']:\n",
    "        for k in ['breadth', 'engagement', 'quality']:\n",
    "        #for k in ['quality']:\n",
    "            if ev[k] != 0:\n",
    "                cur_d.append(ev[k])\n",
    "    # utterance-level\n",
    "    for th in d['thread']:\n",
    "        if th['evaluation'] != 0:\n",
    "            cur_u.append(th['evaluation']-1)\n",
    "    dialog_scores.append(cur_d)\n",
    "    utterance_scores.append(cur_u)\n",
    "filter_dialog_scores = [np.average(d_s) for d_s, u_s in zip(dialog_scores, utterance_scores) if len(d_s) != 0 and len(u_s) != 0]\n",
    "filter_utt_scores = [np.average(u_s) for d_s, u_s in zip(dialog_scores, utterance_scores) if len(d_s) != 0 and len(u_s) != 0]\n",
    "filter_quality = [q for q, u in zip(quality, utterance_scores) if len(u) != 0]\n",
    "filter_breadth = [q for q, u in zip(breadth, utterance_scores) if len(u) != 0]\n",
    "filter_engagement = [q for q, u in zip(engagement, utterance_scores) if len(u) != 0]\n",
    "filter_utt = [np.average(u) for u in utterance_scores if len(u) != 0]\n",
    "assert(len(filter_dialog_scores) == len(filter_utt_scores))\n",
    "#print(len(filter_dialog_scores))\n",
    "print('Pearson r of averaged dialogue-level and utterance-level scores: ', pearsonr(filter_dialog_scores, filter_utt_scores)[0])\n",
    "print('Pearson r of dialogue quality and utterance-level scores: ', pearsonr(filter_quality, filter_utt)[0])\n",
    "print('Pearson r of dialogue breadth and utterance-level scores: ', pearsonr(filter_breadth, filter_utt)[0])\n",
    "print('Pearson r of dialogue engagement and utterance-level scores: ', pearsonr(filter_engagement, filter_utt)[0])\n",
    "plt.scatter(filter_dialog_scores, filter_utt_scores)\n",
    "plt.xlabel('Dialogue-level quality')\n",
    "p = plt.ylabel('Utterance-level quality')"
   ]
  },
  {
   "cell_type": "markdown",
   "metadata": {
    "pycharm": {
     "name": "#%% md\n"
    }
   },
   "source": [
    "### 2.4 Dialogue-level vs statistics"
   ]
  },
  {
   "cell_type": "code",
   "execution_count": null,
   "metadata": {
    "pycharm": {
     "name": "#%%\n"
    }
   },
   "outputs": [],
   "source": [
    "all_words = []\n",
    "for d in dataset:\n",
    "    cur_w = []\n",
    "    for th in d['thread']:\n",
    "        cur_w.extend(wordpunct_tokenize(th['text'].lower()))\n",
    "    all_words.append(cur_w)\n",
    "unique_words = [len(list(set(cur_w))) for cur_w in all_words]\n",
    "print('Correlation of quality and # of unique words: ', pearsonr(quality, unique_words)[0])\n",
    "print('Correlation of breadth and # of unique words: ', pearsonr(breadth, unique_words)[0])\n",
    "print('Correlation of engagement and # of unique words: ', pearsonr(engagement, unique_words)[0])\n",
    "\n",
    "all_dialog_lens = [len(d['thread']) for d in dataset]\n",
    "print('\\nCorrelation of quality and # of utterances', pearsonr(quality, all_dialog_lens)[0])\n",
    "print('Correlation of breadth and # of utterances', pearsonr(breadth, all_dialog_lens)[0])\n",
    "print('Correlation of engagement and # of utterances', pearsonr(engagement, all_dialog_lens)[0])"
   ]
  },
  {
   "cell_type": "code",
   "execution_count": null,
   "metadata": {
    "pycharm": {
     "name": "#%%\n"
    }
   },
   "outputs": [],
   "source": [
    "from nltk import ngrams\n",
    "from collections import Counter\n",
    "from nltk import wordpunct_tokenize\n",
    "def ngram_count(dialogue, order):\n",
    "    total = []\n",
    "    for th in dialogue['thread']:\n",
    "        ngrams_txt = ngrams(wordpunct_tokenize(th['text']), order)\n",
    "        total.extend(ngrams_txt)\n",
    "    cc_total = Counter(total)\n",
    "    return cc_total\n",
    "\n",
    "trigram_distr = [len(ngram_count(d, 3)) for d in dataset]\n",
    "fourgram_distr = [len(ngram_count(d, 4)) for d in dataset]\n",
    "fivegram_distr = [len(ngram_count(d, 5)) for d in dataset]\n",
    "\n",
    "print('Correlation of quality and # of unique trigrams: ', pearsonr(trigram_distr, quality)[0])\n",
    "print('Correlation of breadth and # of unique trigrams: ', pearsonr(trigram_distr, breadth)[0])\n",
    "print('Correlation of engagement and # of unique trigrams: ', pearsonr(trigram_distr, engagement)[0])"
   ]
  },
  {
   "cell_type": "markdown",
   "metadata": {
    "pycharm": {
     "name": "#%% md\n"
    }
   },
   "source": [
    "## 3. Topicality of conversations"
   ]
  },
  {
   "cell_type": "code",
   "execution_count": null,
   "metadata": {
    "pycharm": {
     "name": "#%%\n"
    }
   },
   "outputs": [],
   "source": [
    "# Do the users or bots use context as a topic for conversations?\n",
    "import nltk\n",
    "import string\n",
    "from sklearn.feature_extraction.text import TfidfVectorizer\n",
    "from nltk.stem.porter import PorterStemmer\n",
    "\n",
    "all_contexts = []\n",
    "all_contexts_trans = []\n",
    "for d in dataset:\n",
    "    all_contexts.append(d['context'])\n",
    "\n",
    "def stem_tokens(tokens, stemmer):\n",
    "    stemmed = []\n",
    "    for item in tokens:\n",
    "        stemmed.append(stemmer.stem(item))\n",
    "    return stemmed\n",
    "\n",
    "def tokenize(text):\n",
    "    tokens = nltk.word_tokenize(text)\n",
    "    stems = stem_tokens(tokens, PorterStemmer())\n",
    "    return stems\n",
    "\n",
    "for cont in all_contexts:\n",
    "    lowers = cont.lower()\n",
    "    no_punctuation = ''.join([l for l in lowers if l not in string.punctuation])\n",
    "    all_contexts_trans.append(no_punctuation)\n",
    "        \n",
    "#this can take some time\n",
    "tfidf = TfidfVectorizer(tokenizer=tokenize, stop_words='english')\n",
    "tfs = tfidf.fit_transform(all_contexts_trans)"
   ]
  },
  {
   "cell_type": "code",
   "execution_count": null,
   "metadata": {
    "pycharm": {
     "name": "#%%\n"
    }
   },
   "outputs": [],
   "source": [
    "# get words from the most informative (according to tf-idf) context word list that occur in the dialogue\n",
    "def get_intersections(sentences, context):\n",
    "    tr_table = {s: \"\" for s in string.punctuation}\n",
    "    feature_names = tfidf.get_feature_names()\n",
    "    response = tfidf.transform([context])\n",
    "    words_from_cont = []\n",
    "    for s in sentences:\n",
    "        lowers = s.lower()\n",
    "        no_punctuation = ''.join([l for l in lowers if l not in string.punctuation])\n",
    "        txt = tokenize(no_punctuation)\n",
    "        top15 = sorted([(feature_names[c], response[0,c]) for c in response.nonzero()[1]], reverse=True)[:15]\n",
    "        cont_words = [w for w, c in top15]\n",
    "        txt_common = [t for t in txt if t in cont_words]\n",
    "        words_from_cont.extend(txt_common)\n",
    "    return words_from_cont\n",
    "\n",
    "all_common_words = []\n",
    "for i, d in enumerate(dataset):\n",
    "    all_utt = [th['text'] for th in d['thread']]\n",
    "    ss = get_intersections(all_utt, all_contexts[i])\n",
    "    all_common_words.append(ss)\n",
    "\n",
    "all_lens = [len(a) for a in all_common_words]\n",
    "print('Min. number of topic words: ', min(all_lens))\n",
    "print('Max. number of topic words: ', max(all_lens))\n",
    "print('Average number of topic words: {}, std.deviation: {}'.format(np.average(all_lens), np.std(all_lens)))"
   ]
  },
  {
   "cell_type": "code",
   "execution_count": null,
   "metadata": {
    "pycharm": {
     "name": "#%%\n"
    }
   },
   "outputs": [],
   "source": [
    "all_lens_below_30 = [a for a in all_lens if a < 30]\n",
    "plot = plt.hist(all_lens_below_30, bins=30)\n",
    "plt.xlabel('Number of words')\n",
    "p = plt.ylabel('Number of dialogues')"
   ]
  },
  {
   "cell_type": "code",
   "execution_count": null,
   "metadata": {
    "pycharm": {
     "name": "#%%\n"
    }
   },
   "outputs": [],
   "source": [
    "print('Correlation of dialogue-level quality and topicality: ', pearsonr(quality, all_lens)[0])\n",
    "print('Correlation of dialogue-level breadth and topicality: ', pearsonr(breadth, all_lens)[0])\n",
    "print('Correlation of dialogue-level engagement and topicality: ', pearsonr(engagement, all_lens)[0])\n",
    "non_zero_q = [q for q, a in zip(quality, all_lens) if a != 0]\n",
    "non_zero_b = [q for q, a in zip(breadth, all_lens) if a != 0]\n",
    "non_zero_e = [q for q, a in zip(engagement, all_lens) if a != 0]\n",
    "non_zero_a = [a for a in all_lens if a != 0]\n",
    "print('\\nQuality vs topicality for dialogues which contain at least 1 topic word: ', pearsonr(non_zero_q, non_zero_a)[0])\n",
    "print('Breadth vs topicality for dialogues which contain at least 1 topic word: ', pearsonr(non_zero_b, non_zero_a)[0])\n",
    "print('Engagement vs topicality for dialogues which contain at least 1 topic word: ', pearsonr(non_zero_e, non_zero_a)[0])"
   ]
  },
  {
   "cell_type": "markdown",
   "metadata": {
    "pycharm": {
     "name": "#%% md\n"
    }
   },
   "source": [
    "# Research on chatbot and user initiative"
   ]
  },
  {
   "cell_type": "markdown",
   "metadata": {
    "pycharm": {
     "name": "#%% md\n"
    }
   },
   "source": [
    "## Initiative metrics"
   ]
  },
  {
   "cell_type": "markdown",
   "metadata": {
    "pycharm": {
     "name": "#%% md\n"
    }
   },
   "source": [
    "### Utterance Length"
   ]
  },
  {
   "cell_type": "code",
   "execution_count": 10,
   "metadata": {
    "pycharm": {
     "name": "#%%\n"
    }
   },
   "outputs": [],
   "source": [
    "from scipy.stats import norm\n",
    "\n",
    "def calc_utt_len(dataset):\n",
    "    n_words, n_utt = [],[]\n",
    "    word_in_utt = []\n",
    "    word_in_utt_hier = []\n",
    "    for d in dataset:\n",
    "        cur_utt = 0\n",
    "        cur_words = 0\n",
    "        cur_w_i_u = []\n",
    "        for th in d['thread']:    \n",
    "            text = wordpunct_tokenize(th['text'])\n",
    "            cur_utt += 1\n",
    "            cur_words += len(text)\n",
    "            word_in_utt.append(len(text))\n",
    "            cur_w_i_u.append(len(text))\n",
    "        n_words.append(cur_words)\n",
    "        n_utt.append(cur_utt)\n",
    "        word_in_utt_hier.append(cur_w_i_u)\n",
    "    word_per_utt = [float(w)/float(u) if u > 0 else 0 for w, u in zip(n_words, n_utt)]\n",
    "    filter_word_per_utt = [f for f in word_per_utt if f < 25]\n",
    "    return filter_word_per_utt"
   ]
  },
  {
   "cell_type": "code",
   "execution_count": 11,
   "metadata": {
    "pycharm": {
     "name": "#%%\n"
    }
   },
   "outputs": [
    {
     "data": {
      "text/plain": "<Figure size 432x288 with 1 Axes>",
      "image/png": "[encoded data removed]"
     },
     "metadata": {
      "needs_background": "light"
     },
     "output_type": "display_data"
    }
   ],
   "source": [
    "def get_hist_with_norm_dist(data, title, bins=25):\n",
    "    _, bins, _ = plt.hist(data, bins=bins, density=1, alpha=0.5)\n",
    "    mu, sigma = norm.fit(data)\n",
    "    best_fit_line = norm.pdf(bins, mu, sigma)\n",
    "    plt.plot(bins, best_fit_line)\n",
    "    plt.title(f'{title}, mean={round(mu,2)}, st.dev.={round(sigma,2)}')\n",
    "\n",
    "get_hist_with_norm_dist(calc_utt_len(hb_dialog), \"Average utterance length for human-to-bot conversations\")"
   ]
  },
  {
   "cell_type": "code",
   "execution_count": 12,
   "metadata": {
    "pycharm": {
     "name": "#%%\n"
    }
   },
   "outputs": [
    {
     "data": {
      "text/plain": "<Figure size 432x288 with 1 Axes>",
      "image/png": "[encoded data removed]"
     },
     "metadata": {
      "needs_background": "light"
     },
     "output_type": "display_data"
    }
   ],
   "source": [
    "get_hist_with_norm_dist(calc_utt_len(hh_dialog), \"Average utterance length for human-to-human conversations\")"
   ]
  },
  {
   "cell_type": "code",
   "execution_count": null,
   "metadata": {
    "scrolled": true,
    "pycharm": {
     "name": "#%%\n"
    }
   },
   "outputs": [],
   "source": [
    "human_utterances = []\n",
    "bot_utterances = []\n",
    "\n",
    "for dialog in hb_dialog:\n",
    "    for th in dialog['thread']:\n",
    "        text = wordpunct_tokenize(th['text'])\n",
    "        user = [x for x in dialog['users'] if x['id'] == th['userId']][0]\n",
    "        if user['userType'] == 'Human':\n",
    "            human_utterances.append(th['text'])\n",
    "        elif user['userType'] == 'Bot':\n",
    "            bot_utterances.append(th['text'])\n",
    "\n",
    "def calc_utt_len_sep(dataset):\n",
    "    n_words, n_utt = [],[]\n",
    "    word_in_utt = []\n",
    "    word_in_utt_hier = []\n",
    "    for d in dataset:\n",
    "        cur_utt = 0\n",
    "        cur_words = 0\n",
    "        cur_w_i_u = []\n",
    "        text = wordpunct_tokenize(d)\n",
    "        cur_utt += 1\n",
    "        cur_words += len(text)\n",
    "        word_in_utt.append(len(text))\n",
    "        cur_w_i_u.append(len(text))\n",
    "        n_words.append(cur_words)\n",
    "        n_utt.append(cur_utt)\n",
    "        word_in_utt_hier.append(cur_w_i_u)\n",
    "    word_per_utt = [float(w)/float(u) if u > 0 else 0 for w, u in zip(n_words, n_utt)]\n",
    "    filter_word_per_utt = [f for f in word_per_utt if f < 25]\n",
    "    return filter_word_per_utt\n",
    "\n",
    "def calculate_utterance_length(dataset):\n",
    "    for d in dataset:\n",
    "        for th in d['thread']:\n",
    "            text = wordpunct_tokenize(th['text'])\n",
    "            th['UTT'] = text\n",
    "            \n",
    "\n",
    "get_hist_with_norm_dist(calc_utt_len_sep(human_utterances), 'Human utterances in conversations with bots')"
   ]
  },
  {
   "cell_type": "code",
   "execution_count": null,
   "metadata": {
    "pycharm": {
     "name": "#%%\n"
    }
   },
   "outputs": [],
   "source": [
    "get_hist_with_norm_dist(calc_utt_len_sep(bot_utterances), 'Bot utterances')"
   ]
  },
  {
   "cell_type": "markdown",
   "metadata": {
    "pycharm": {
     "name": "#%% md\n"
    }
   },
   "source": [
    "### Noun Phrases"
   ]
  },
  {
   "cell_type": "code",
   "execution_count": null,
   "metadata": {
    "pycharm": {
     "name": "#%%\n"
    }
   },
   "outputs": [],
   "source": [
    "# !pip install spacy\n",
    "# !python -m spacy download en_core_web_sm\n",
    "import spacy\n",
    "import en_core_web_sm\n",
    "\n",
    "nlp = en_core_web_sm.load()\n",
    "\n",
    "# Just an example, has to be extended to the whole dataset\n",
    "def get_NPs(dataset):\n",
    "    result = []\n",
    "    for d in dataset:\n",
    "        for th in d['thread']:  \n",
    "            phrases = set() \n",
    "            doc = nlp(th['text'])\n",
    "            for nc in doc.noun_chunks:\n",
    "                phrases.add(nc.text)\n",
    "                phrases.add(doc[nc.root.left_edge.i:nc.root.right_edge.i+1].text) \n",
    "            th['NP'] = list(phrases)"
   ]
  },
  {
   "cell_type": "code",
   "execution_count": null,
   "metadata": {
    "scrolled": false,
    "pycharm": {
     "name": "#%%\n"
    }
   },
   "outputs": [],
   "source": [
    "import pprint\n",
    "\n",
    "pp = pprint.PrettyPrinter(indent=4)\n",
    "# pp.pprint(hb_dialog[0])\n",
    "# heavy operation!\n",
    "# get_NPs(hb_dialog)\n",
    "# with open('train_hb_np.json', 'w') as f:\n",
    "#     json.dump(hb_dialog, f)\n",
    "# get_NPs(hh_dialog)\n",
    "# with open('train_hh_np.json', 'w') as f:\n",
    "#     json.dump(hh_dialog, f)"
   ]
  },
  {
   "cell_type": "code",
   "execution_count": null,
   "metadata": {
    "pycharm": {
     "name": "#%%\n"
    }
   },
   "outputs": [],
   "source": [
    "with open(\"train_hb_np.json\") as f:\n",
    "    hb_dialog = json.load(f)\n",
    "    \n",
    "with open(\"train_hh_np.json\") as f:\n",
    "    hh_dialog = json.load(f)"
   ]
  },
  {
   "cell_type": "code",
   "execution_count": null,
   "metadata": {
    "pycharm": {
     "name": "#%%\n"
    }
   },
   "outputs": [],
   "source": [
    "human_nps = []\n",
    "bot_nps = []\n",
    "for dialog in hb_dialog:\n",
    "    for th in dialog['thread']:\n",
    "        user = [x for x in dialog['users'] if x['id'] == th['userId']][0]\n",
    "        if user['userType'] == 'Human':\n",
    "            human_nps.append(th['NP'])\n",
    "        elif user['userType'] == 'Bot':\n",
    "            bot_nps.append(th['NP'])\n",
    "\n",
    "len_human_nps = [len(np) for np in human_nps if len(np) < 25]         \n",
    "len_bot_nps = [len(np) for np in bot_nps  if len(np) < 25]     "
   ]
  },
  {
   "cell_type": "code",
   "execution_count": null,
   "metadata": {
    "pycharm": {
     "name": "#%%\n"
    }
   },
   "outputs": [],
   "source": [
    "get_hist_with_norm_dist(len_human_nps, 'Human NPs when talking to a bot')"
   ]
  },
  {
   "cell_type": "code",
   "execution_count": null,
   "metadata": {
    "pycharm": {
     "name": "#%%\n"
    }
   },
   "outputs": [],
   "source": [
    "get_hist_with_norm_dist(len_bot_nps, 'Bot NPs')"
   ]
  },
  {
   "cell_type": "code",
   "execution_count": null,
   "metadata": {
    "pycharm": {
     "name": "#%%\n"
    }
   },
   "outputs": [],
   "source": [
    "get_hist_with_norm_dist(len_bot_nps + len_human_nps, 'Human-to-bot NPs')"
   ]
  },
  {
   "cell_type": "code",
   "execution_count": null,
   "metadata": {
    "scrolled": true,
    "pycharm": {
     "name": "#%%\n"
    }
   },
   "outputs": [],
   "source": [
    "hh_nps = []\n",
    "for dialog in hh_dialog:\n",
    "    for th in dialog['thread']:\n",
    "        hh_nps.append(th['NP'])\n",
    "\n",
    "len_hh_nps = [len(np) for np in hh_nps if len(np) < 25]         \n",
    "get_hist_with_norm_dist(len_hh_nps, 'Human to Human NPs')"
   ]
  },
  {
   "cell_type": "code",
   "execution_count": null,
   "metadata": {
    "pycharm": {
     "name": "#%%\n"
    }
   },
   "outputs": [],
   "source": [
    "# Add utterance length to dataset\n",
    "\n",
    "calculate_utterance_length(hb_dialog)\n",
    "calculate_utterance_length(hh_dialog)\n",
    "\n",
    "with open('train_hb_np_utt.json', 'w') as f:\n",
    "    json.dump(hb_dialog, f)\n",
    "\n",
    "with open('train_hh_np_utt.json', 'w') as f:\n",
    "    json.dump(hh_dialog, f)"
   ]
  },
  {
   "cell_type": "code",
   "execution_count": null,
   "metadata": {
    "pycharm": {
     "name": "#%%\n"
    }
   },
   "outputs": [],
   "source": [
    "hh_dialog[0]"
   ]
  },
  {
   "cell_type": "markdown",
   "metadata": {
    "pycharm": {
     "name": "#%% md\n"
    }
   },
   "source": [
    "### Negative Log Likelihood"
   ]
  },
  {
   "cell_type": "markdown",
   "metadata": {
    "pycharm": {
     "name": "#%% md\n"
    }
   },
   "source": [
    "[Code from here](https://towardsdatascience.com/text-generation-with-python-and-gpt-2-1fecbff1635b)"
   ]
  },
  {
   "cell_type": "markdown",
   "metadata": {
    "pycharm": {
     "name": "#%% md\n"
    }
   },
   "source": [
    "From the paper:\n",
    "> To calculate negative log-likelihood and entropy (avg. negative log-likelihood), we used a GPT-2 medium model (Radford et al., 2019), which was pre-trained on the English Webtext dataset and has 345M parameters. We fine-tuned this model on 130,000 examples of dialogue from our bot, where each example contained a single user utterance. This was divided into a training split with 91,000 examples and a validation split with 39,000 examples. During fine-tuning, we used the default hyperparameters and selected the model with the lowest negative log-likelihood loss (3.19) and had been trained for 4 epochs. The model was trained on a Titan RTX using a single GPU and 24 GB of memory. Training took 5 hours and 22 minutes."
   ]
  },
  {
   "cell_type": "code",
   "execution_count": null,
   "metadata": {
    "pycharm": {
     "name": "#%%\n"
    }
   },
   "outputs": [],
   "source": [
    "import torch\n",
    "from transformers import GPT2LMHeadModel, GPT2Tokenizer\n",
    "\n",
    "# initialize tokenizer and model from pretrained GPT2 model\n",
    "tokenizer = GPT2Tokenizer.from_pretrained('gpt2')\n",
    "model = GPT2LMHeadModel.from_pretrained('gpt2')"
   ]
  },
  {
   "cell_type": "markdown",
   "metadata": {
    "pycharm": {
     "name": "#%% md\n"
    }
   },
   "source": [
    "https://huggingface.co/docs/transformers/perplexity"
   ]
  },
  {
   "cell_type": "code",
   "execution_count": null,
   "metadata": {
    "pycharm": {
     "name": "#%%\n"
    }
   },
   "outputs": [],
   "source": [
    "sequence = \"Valeria is studying late at night because she worked all day long\"\n",
    "inputs = tokenizer.encode(sequence, return_tensors='pt')\n",
    "outputs = model.generate(inputs, max_length=200, do_sample=True)\n",
    "text = tokenizer.decode(outputs[0], skip_special_tokens=True)\n",
    "text"
   ]
  },
  {
   "cell_type": "code",
   "execution_count": null,
   "metadata": {
    "pycharm": {
     "name": "#%%\n"
    }
   },
   "outputs": [],
   "source": [
    "import math \n",
    "\n",
    "def calculatePerplexity(sentence,model,tokenizer):\n",
    "        input_ids = torch.tensor(tokenizer.encode(sentence)).unsqueeze(0) \n",
    "        input_ids = input_ids.to('cpu')\n",
    "        with torch.no_grad():\n",
    "            try:\n",
    "                outputs = model(input_ids, labels=input_ids)\n",
    "                loss, logits = outputs[:2]\n",
    "                return math.exp(loss)\n",
    "            except RuntimeError:\n",
    "                return math.nan\n",
    "\n",
    "model.eval()"
   ]
  },
  {
   "cell_type": "code",
   "execution_count": null,
   "metadata": {
    "pycharm": {
     "name": "#%%\n"
    }
   },
   "outputs": [],
   "source": [
    "print(len(hb_dialog))\n",
    "\n",
    "for i, d in enumerate(hb_dialog):\n",
    "    for th in d['thread']:\n",
    "        if len(th['text']) <= 1024:\n",
    "            th['NLL'] = calculatePerplexity(th['text'], model, tokenizer)\n",
    "    if i % 1000 == 0:\n",
    "        print(i)\n",
    "        \n",
    "\n",
    "with open('train_hb_final.json', 'w') as f:\n",
    "    json.dump(hb_dialog, f)"
   ]
  },
  {
   "cell_type": "code",
   "execution_count": null,
   "metadata": {
    "pycharm": {
     "name": "#%%\n"
    }
   },
   "outputs": [],
   "source": [
    "print(len(hh_dialog))\n",
    "\n",
    "for i, d in enumerate(hh_dialog):\n",
    "    for th in d['thread']:\n",
    "        if len(th['text']) <= 1024:\n",
    "            th['NLL'] = calculatePerplexity(th['text'], model, tokenizer)\n",
    "    if i % 1000 == 0:\n",
    "        print(i)\n",
    "        \n",
    "\n",
    "with open('train_hh_final.json', 'w') as f:\n",
    "    json.dump(hh_dialog, f)"
   ]
  },
  {
   "cell_type": "code",
   "execution_count": null,
   "metadata": {
    "pycharm": {
     "name": "#%%\n"
    }
   },
   "outputs": [],
   "source": [
    "with open('train_hb_final.json', 'r') as f:\n",
    "    hb_dialog = json.load(f)\n",
    "    \n",
    "with open('train_hh_final.json', 'r') as f:\n",
    "    hh_dialog = json.load(f)"
   ]
  },
  {
   "cell_type": "code",
   "execution_count": null,
   "metadata": {
    "pycharm": {
     "name": "#%%\n"
    }
   },
   "outputs": [],
   "source": [
    "import math\n",
    "\n",
    "hh_nlls = []\n",
    "for d in hh_dialog:\n",
    "    for th in d['thread']:\n",
    "        try:\n",
    "            if th['NLL'] != math.nan and th['NLL'] < 1000:\n",
    "                hh_nlls.append(th['NLL'])\n",
    "        except KeyError:\n",
    "            pass\n",
    "get_hist_with_norm_dist(hh_nlls, 'Entropy for human-to-human dialogue', bins=10)"
   ]
  },
  {
   "cell_type": "code",
   "execution_count": null,
   "metadata": {
    "pycharm": {
     "name": "#%%\n"
    }
   },
   "outputs": [],
   "source": [
    "hb_nlls = []\n",
    "for d in hb_dialog:\n",
    "    for th in d['thread']:\n",
    "        try:\n",
    "            if th['NLL'] != math.nan and th['NLL'] < 1000:\n",
    "                hb_nlls.append(th['NLL'])\n",
    "        except KeyError:\n",
    "            pass\n",
    "get_hist_with_norm_dist(hb_nlls, 'Entropy for human-to-bot dialogue', bins=10)"
   ]
  },
  {
   "cell_type": "code",
   "execution_count": null,
   "metadata": {
    "pycharm": {
     "name": "#%%\n"
    }
   },
   "outputs": [],
   "source": [
    "bot_nlls = []\n",
    "human_nlls = []\n",
    "for d in hb_dialog:\n",
    "    for th in d['thread']:\n",
    "        try:\n",
    "            if th['NLL'] != math.nan and th['NLL'] < 1000:\n",
    "                user = [x for x in dialog['users'] if x['id'] == th['userId']][0]\n",
    "                if user['userType'] == 'Human':\n",
    "                    human_nlls.append(th['NLL'])\n",
    "                elif user['userType'] == 'Bot':\n",
    "                    bot_nlls.append(th['NLL'])\n",
    "        except KeyError:\n",
    "            pass\n",
    "print(bot)\n",
    "get_hist_with_norm_dist(bot_nlls, 'Bots entropy', bins=10)"
   ]
  },
  {
   "cell_type": "code",
   "execution_count": null,
   "metadata": {
    "pycharm": {
     "name": "#%%\n"
    }
   },
   "outputs": [],
   "source": [
    "get_hist_with_norm_dist(human_nlls, 'Humans entropy', bins=10)"
   ]
  },
  {
   "cell_type": "markdown",
   "metadata": {
    "pycharm": {
     "name": "#%% md\n"
    }
   },
   "source": [
    "## Correlations"
   ]
  },
  {
   "cell_type": "markdown",
   "metadata": {
    "pycharm": {
     "name": "#%% md\n"
    }
   },
   "source": [
    "### Dataframe for human-to-human conversation"
   ]
  },
  {
   "cell_type": "code",
   "execution_count": null,
   "metadata": {
    "pycharm": {
     "name": "#%%\n"
    }
   },
   "outputs": [],
   "source": [
    "import pandas as pd"
   ]
  },
  {
   "cell_type": "code",
   "execution_count": null,
   "metadata": {
    "pycharm": {
     "name": "#%%\n"
    }
   },
   "outputs": [],
   "source": [
    "def construct_df(dataset, consider_bots=False):\n",
    "    rows_list = []\n",
    "    for d in dataset:\n",
    "        row = {}\n",
    "        user_1 = d['users'][0]\n",
    "        user_2 = d['users'][1]\n",
    "        if consider_bots:\n",
    "            # Guarantee that user 1 is always human\n",
    "            if user_1['userType'] == 'Bot':\n",
    "                user_bot = user_1\n",
    "                user_1 = user_2\n",
    "                user_2 = user_bot\n",
    "        \n",
    "        eval_user_1 = [ev for ev in d['evaluation'] if ev['userId'] == user_1['id']][0]\n",
    "        thread_user_1 = [th for th in d['thread'] if th['userId'] == user_1['id']]\n",
    "        if thread_user_1:\n",
    "            utt_user_1 = [th['UTT_LEN'] for th in thread_user_1]\n",
    "            np_user_1 = [len(th['NP']) for th in thread_user_1]\n",
    "            try:\n",
    "                nll_user_1 = [th['NLL'] for th in thread_user_1]\n",
    "            except KeyError:\n",
    "                nll_user_1 = [0]\n",
    "            if not consider_bots:\n",
    "                row['breadth_user_1'] = eval_user_1['breadth']\n",
    "                row['quality_user_1'] = eval_user_1['quality']\n",
    "                row['engagement_user_1'] = eval_user_1['engagement']\n",
    "            row['utt_user_1'] = sum(utt_user_1) / len(utt_user_1)\n",
    "            row['np_user_1'] = sum(np_user_1) / len(np_user_1)\n",
    "            row['nll_user_1'] = sum(nll_user_1) / len(nll_user_1)\n",
    "        \n",
    "        eval_user_2 = [ev for ev in d['evaluation'] if ev['userId'] == user_2['id']][0]\n",
    "        thread_user_2 = [th for th in d['thread'] if th['userId'] == user_2['id']]\n",
    "        if thread_user_2:\n",
    "            utt_user_2 = [th['UTT_LEN'] for th in thread_user_2]\n",
    "            np_user_2 = [len(th['NP']) for th in thread_user_2]\n",
    "            try:\n",
    "                nll_user_2 = [th['NLL'] for th in thread_user_2]\n",
    "            except KeyError:\n",
    "                nll_user_2 = [0]\n",
    "            row['breadth_user_2'] = eval_user_2['breadth']\n",
    "            row['quality_user_2'] = eval_user_2['quality']\n",
    "            row['engagement_user_2'] = eval_user_2['engagement']\n",
    "            row['utt_user_2'] = sum(utt_user_2) / len(utt_user_2)\n",
    "            row['np_user_2'] = sum(np_user_2) / len(np_user_2)\n",
    "            row['nll_user_2'] = sum(nll_user_2) / len(nll_user_2)\n",
    "            \n",
    "        rows_list.append(row)\n",
    "    return rows_list\n",
    "        \n",
    "df = pd.DataFrame(data=construct_df(hh_dialog), columns=[\n",
    "    'breadth_user_1',\n",
    "    'quality_user_1',\n",
    "    'engagement_user_1',\n",
    "    'utt_user_1',\n",
    "    'np_user_1',\n",
    "    'nll_user_1',\n",
    "    'breadth_user_2',\n",
    "    'quality_user_2',\n",
    "    'engagement_user_2',\n",
    "    'utt_user_2',\n",
    "    'np_user_2',\n",
    "    'nll_user_2'\n",
    "])"
   ]
  },
  {
   "cell_type": "code",
   "execution_count": null,
   "metadata": {
    "pycharm": {
     "name": "#%%\n"
    }
   },
   "outputs": [],
   "source": [
    "df = df.fillna(0)"
   ]
  },
  {
   "cell_type": "code",
   "execution_count": null,
   "outputs": [],
   "source": [
    "!pip install seaborn\n",
    "import seaborn as sns\n",
    "\n",
    "sns.pairplot(df)"
   ],
   "metadata": {
    "collapsed": false,
    "pycharm": {
     "name": "#%%\n"
    }
   }
  },
  {
   "cell_type": "code",
   "execution_count": null,
   "metadata": {
    "pycharm": {
     "name": "#%%\n"
    }
   },
   "outputs": [],
   "source": [
    "sns.heatmap(df.corr(), annot=True)"
   ]
  },
  {
   "cell_type": "code",
   "execution_count": null,
   "metadata": {
    "pycharm": {
     "name": "#%%\n"
    }
   },
   "outputs": [],
   "source": [
    "sns.heatmap(df.corr('kendall'), annot=True)"
   ]
  },
  {
   "cell_type": "code",
   "execution_count": null,
   "metadata": {
    "pycharm": {
     "name": "#%%\n"
    }
   },
   "outputs": [],
   "source": [
    "sns.heatmap(df.corr('spearman'), annot=True)"
   ]
  },
  {
   "cell_type": "code",
   "execution_count": null,
   "metadata": {
    "pycharm": {
     "name": "#%%\n"
    }
   },
   "outputs": [],
   "source": [
    "from scipy.stats import pearsonr, spearmanr, kendalltau\n",
    "\n",
    "def calculate_pvalues(df, method='pearson'):\n",
    "    df = df.dropna()._get_numeric_data()\n",
    "    dfcols = pd.DataFrame(columns=df.columns)\n",
    "    pvalues = dfcols.transpose().join(dfcols, how='outer')\n",
    "    for r in df.columns:\n",
    "        for c in df.columns:\n",
    "            if method == 'pearson':\n",
    "                pvalues[r][c] = round(pearsonr(df[r], df[c])[1], 4)\n",
    "            elif method == 'spearman':\n",
    "                pvalues[r][c] = round(spearmanr(df[r], df[c])[1], 4)\n",
    "            elif method == 'kendall':\n",
    "                pvalues[r][c] = round(kendalltau(df[r], df[c])[1], 4)\n",
    "    return pvalues\n",
    "\n",
    "calculate_pvalues(df)"
   ]
  },
  {
   "cell_type": "code",
   "execution_count": null,
   "outputs": [],
   "source": [
    "calculate_pvalues(df, 'spearman')"
   ],
   "metadata": {
    "collapsed": false,
    "pycharm": {
     "name": "#%%\n"
    }
   }
  },
  {
   "cell_type": "code",
   "execution_count": null,
   "outputs": [],
   "source": [
    "calculate_pvalues(df, 'kendall')"
   ],
   "metadata": {
    "collapsed": false,
    "pycharm": {
     "name": "#%%\n"
    }
   }
  },
  {
   "cell_type": "markdown",
   "metadata": {
    "pycharm": {
     "name": "#%% md\n"
    }
   },
   "source": [
    "All the NLL scores seem to be statistically insignificant.\n",
    "Were they calculated correctly?"
   ]
  },
  {
   "cell_type": "markdown",
   "metadata": {
    "pycharm": {
     "name": "#%% md\n"
    }
   },
   "source": [
    "### Dataframe for human-to-bot conversation"
   ]
  },
  {
   "cell_type": "code",
   "execution_count": null,
   "metadata": {
    "pycharm": {
     "name": "#%%\n"
    }
   },
   "outputs": [],
   "source": [
    "df_bots = pd.DataFrame(data=construct_df(hb_dialog), columns=[\n",
    "    'utt_user_1',\n",
    "    'np_user_1',\n",
    "    'nll_user_1',\n",
    "    'breadth_user_2',\n",
    "    'quality_user_2',\n",
    "    'engagement_user_2',\n",
    "    'utt_user_2',\n",
    "    'np_user_2',\n",
    "    'nll_user_2'\n",
    "])"
   ]
  },
  {
   "cell_type": "code",
   "execution_count": null,
   "metadata": {
    "pycharm": {
     "name": "#%%\n"
    }
   },
   "outputs": [],
   "source": [
    "df_bots = df_bots.fillna(0)\n",
    "df_bots.head()"
   ]
  },
  {
   "cell_type": "code",
   "execution_count": null,
   "metadata": {
    "pycharm": {
     "name": "#%%\n"
    }
   },
   "outputs": [],
   "source": [
    "df_bots.corr()"
   ]
  },
  {
   "cell_type": "code",
   "execution_count": null,
   "metadata": {
    "pycharm": {
     "name": "#%%\n"
    }
   },
   "outputs": [],
   "source": [
    "df_bots.corr('kendall')"
   ]
  },
  {
   "cell_type": "code",
   "execution_count": null,
   "metadata": {
    "pycharm": {
     "name": "#%%\n"
    }
   },
   "outputs": [],
   "source": [
    "df_bots.corr('spearman')"
   ]
  },
  {
   "cell_type": "code",
   "execution_count": null,
   "metadata": {
    "pycharm": {
     "name": "#%%\n"
    }
   },
   "outputs": [],
   "source": [
    "calculate_pvalues(df_bots)"
   ]
  },
  {
   "cell_type": "markdown",
   "metadata": {
    "pycharm": {
     "name": "#%% md\n"
    }
   },
   "source": [
    "> !!! NaNs above are produced because bots did not estimate humans !!!"
   ]
  },
  {
   "cell_type": "markdown",
   "metadata": {
    "pycharm": {
     "name": "#%% md\n"
    }
   },
   "source": [
    "> breadth_user_1 means \"Estimate of user 1 conversation breadth from user 2\""
   ]
  }
 ],
 "metadata": {
  "kernelspec": {
   "display_name": "Python 3",
   "language": "python",
   "name": "python3"
  },
  "language_info": {
   "codemirror_mode": {
    "name": "ipython",
    "version": 3
   },
   "file_extension": ".py",
   "mimetype": "text/x-python",
   "name": "python",
   "nbconvert_exporter": "python",
   "pygments_lexer": "ipython3",
   "version": "3.8.8"
  }
 },
 "nbformat": 4,
 "nbformat_minor": 2
}